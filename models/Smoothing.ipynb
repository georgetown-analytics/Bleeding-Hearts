{
 "cells": [
  {
   "cell_type": "code",
   "execution_count": null,
   "id": "foster-franklin",
   "metadata": {},
   "outputs": [],
   "source": []
  },
  {
   "cell_type": "code",
   "execution_count": 1,
   "id": "outdoor-revolution",
   "metadata": {},
   "outputs": [
    {
     "name": "stdout",
     "output_type": "stream",
     "text": [
      "Program run at 2021-06-14 19:37:19.109214\n"
     ]
    }
   ],
   "source": [
    "import pandas as pd\n",
    "import numpy as np\n",
    "from datetime import datetime as dt\n",
    "import io, s3fs, json, traceback\n",
    "pd.set_option('display.max_columns', None)\n",
    "print('Program run at', dt.now())\n",
    "%matplotlib inline\n",
    "%config InlineBackend.figure_format = 'retina'\n",
    "import warnings\n",
    "warnings.filterwarnings(\"ignore\")\n",
    "from sklearn.linear_model import Ridge, Lasso, ElasticNet"
   ]
  },
  {
   "cell_type": "code",
   "execution_count": 2,
   "id": "conventional-generation",
   "metadata": {},
   "outputs": [],
   "source": [
    "df = pd.read_csv('s3://bleeding-hearts/workingdata/est_rmv.csv')\n",
    "df.drop(columns=['Unnamed: 0'],inplace=True)\n",
    "repl = {'Very Low': 0,\n",
    "       'Low': 1,\n",
    "       'Moderate': 2,\n",
    "       'High': 3,\n",
    "       'Very High': 4}\n",
    "df['Child Opportunity Levels, overall COI, nationally-normed'] = df['Child Opportunity Levels, overall COI, nationally-normed'].replace(repl)\n",
    "X = df.loc[:, df.columns != 'Child Opportunity Levels, overall COI, nationally-normed']\n",
    "y = df['Child Opportunity Levels, overall COI, nationally-normed']"
   ]
  },
  {
   "cell_type": "markdown",
   "id": "bizarre-turning",
   "metadata": {},
   "source": [
    "## Lasso"
   ]
  },
  {
   "cell_type": "code",
   "execution_count": 12,
   "id": "secure-bathroom",
   "metadata": {},
   "outputs": [
    {
     "name": "stdout",
     "output_type": "stream",
     "text": [
      "[('EMPLOYMENT STATUS_Population 16 years and over_In labor force_Civilian labor force', 0.0), ('EMPLOYMENT STATUS_Population 16 years and over_In labor force_Civilian labor force_Unemployed', -0.0015181350935001851), ('EMPLOYMENT STATUS_Population 16 years and over_In labor force_Armed Forces', -0.00010775896378135879), ('COMMUTING TO WORK_Workers 16 years and over_Car, truck, or van -- carpooled', -0.0005011650919383409), ('COMMUTING TO WORK_Workers 16 years and over_Public transportation (excluding taxicab)', -0.0002523971761025809), ('COMMUTING TO WORK_Workers 16 years and over_Walked', 1.4076226691008005e-05), ('COMMUTING TO WORK_Workers 16 years and over_Other means', -0.0), ('COMMUTING TO WORK_Workers 16 years and over_Worked at home', 0.0003409831460666109), ('COMMUTING TO WORK_Mean travel time to work (minutes)', -0.0), ('OCCUPATION_Civilian employed population 16 years and over', 0.0004492582329116134), ('OCCUPATION_Civilian employed population 16 years and over_Service occupations', -0.00021900784528305372), ('OCCUPATION_Civilian employed population 16 years and over_Production, transportation, and material moving occupations', -0.0005812763319738901), ('INDUSTRY_Civilian employed population 16 years and over', 9.002779001284854e-05), ('INDUSTRY_Civilian employed population 16 years and over_Agriculture, forestry, fishing and hunting, and mining', 0.0), ('INDUSTRY_Civilian employed population 16 years and over_Construction', -0.0004377399100103328), ('INDUSTRY_Civilian employed population 16 years and over_Manufacturing', 0.0006286808516439436), ('INDUSTRY_Civilian employed population 16 years and over_Wholesale trade', -0.0), ('INDUSTRY_Civilian employed population 16 years and over_Transportation and warehousing, and utilities', -0.0006934754050101128), ('INDUSTRY_Civilian employed population 16 years and over_Information', 0.0), ('INDUSTRY_Civilian employed population 16 years and over_Finance and insurance, and real estate and rental and leasing', -0.0), ('INDUSTRY_Civilian employed population 16 years and over_Professional, scientific, and management, and administrative and waste management services', -7.401645428720438e-05), ('INDUSTRY_Civilian employed population 16 years and over_Arts, entertainment, and recreation, and accommodation and food services', 0.0), ('INDUSTRY_Civilian employed population 16 years and over_Other services, except public administration', -0.0), ('INDUSTRY_Civilian employed population 16 years and over_Public administration', -0.00035791882334187513), ('CLASS OF WORKER_Civilian employed population 16 years and over', 2.4247804864773733e-05), ('CLASS OF WORKER_Civilian employed population 16 years and over_Government workers', -0.0), ('CLASS OF WORKER_Civilian employed population 16 years and over_Self-employed in own not incorporated business workers', 0.0007531323811182391), ('CLASS OF WORKER_Civilian employed population 16 years and over_Unpaid family workers', 0.0), ('INCOME AND BENEFITS (IN 2015 INFLATION-ADJUSTED DOLLARS)_Total households_Less than $10,000', -0.000199241630035006), ('INCOME AND BENEFITS (IN 2015 INFLATION-ADJUSTED DOLLARS)_Total households_$10,000 to $14,999', -5.257861874653304e-06), ('INCOME AND BENEFITS (IN 2015 INFLATION-ADJUSTED DOLLARS)_With Social Security', 0.00023670593310984818), ('INCOME AND BENEFITS (IN 2015 INFLATION-ADJUSTED DOLLARS)_With Social Security_Mean Social Security income (dollars)', 4.320496693472038e-05), ('INCOME AND BENEFITS (IN 2015 INFLATION-ADJUSTED DOLLARS)_With retirement income_Mean retirement income (dollars)', -3.5826543593812704e-06), ('INCOME AND BENEFITS (IN 2015 INFLATION-ADJUSTED DOLLARS)_With Supplemental Security Income', -0.0003424737402096452), ('INCOME AND BENEFITS (IN 2015 INFLATION-ADJUSTED DOLLARS)_With Supplemental Security Income_Mean Supplemental Security Income (dollars)', 6.945868245133855e-06), ('INCOME AND BENEFITS (IN 2015 INFLATION-ADJUSTED DOLLARS)_With cash public assistance income', -0.0), ('INCOME AND BENEFITS (IN 2015 INFLATION-ADJUSTED DOLLARS)_With cash public assistance income_Mean cash public assistance income (dollars)', -0.0), ('INCOME AND BENEFITS (IN 2015 INFLATION-ADJUSTED DOLLARS)_With Food Stamp/SNAP benefits in the past 12 months', -0.0014775152668583212), ('INCOME AND BENEFITS (IN 2015 INFLATION-ADJUSTED DOLLARS)_Families_Less than $10,000', -3.5371173664455684e-05), ('INCOME AND BENEFITS (IN 2015 INFLATION-ADJUSTED DOLLARS)_Families_$10,000 to $14,999', -5.824577526689909e-05), ('INCOME AND BENEFITS (IN 2015 INFLATION-ADJUSTED DOLLARS)_Families_$15,000 to $24,999', -0.0007795356730740518), ('INCOME AND BENEFITS (IN 2015 INFLATION-ADJUSTED DOLLARS)_Families_$25,000 to $34,999', -0.0006618648147243188), ('INCOME AND BENEFITS (IN 2015 INFLATION-ADJUSTED DOLLARS)_Families_$35,000 to $49,999', -4.2978844590828326e-05), ('INCOME AND BENEFITS (IN 2015 INFLATION-ADJUSTED DOLLARS)_Families_$50,000 to $74,999', 1.211947109080567e-05), ('INCOME AND BENEFITS (IN 2015 INFLATION-ADJUSTED DOLLARS)_Families_$100,000 to $149,999', 0.0003775525004146938), ('INCOME AND BENEFITS (IN 2015 INFLATION-ADJUSTED DOLLARS)_Families_$150,000 to $199,999', 0.0), ('INCOME AND BENEFITS (IN 2015 INFLATION-ADJUSTED DOLLARS)_Families_$200,000 or more', -0.0027321192482727603), ('INCOME AND BENEFITS (IN 2015 INFLATION-ADJUSTED DOLLARS)_Families_Mean family income (dollars)', 1.4538002592901031e-05), ('INCOME AND BENEFITS (IN 2015 INFLATION-ADJUSTED DOLLARS)_Nonfamily households', -0.00033056202983069164), ('INCOME AND BENEFITS (IN 2015 INFLATION-ADJUSTED DOLLARS)_Nonfamily households_Mean nonfamily income (dollars)', 2.6252332832410334e-06), ('INCOME AND BENEFITS (IN 2015 INFLATION-ADJUSTED DOLLARS)_Median earnings for female full-time, year-round workers (dollars)', 8.826751296864757e-06), ('HEALTH INSURANCE COVERAGE_Civilian noninstitutionalized population', 6.671954180351017e-05), ('HEALTH INSURANCE COVERAGE_Civilian noninstitutionalized population_With health insurance coverage_With public coverage', 2.362371727859424e-05), ('HEALTH INSURANCE COVERAGE_Civilian noninstitutionalized population under 18 years_No health insurance coverage', -0.0), ('HEALTH INSURANCE COVERAGE_Civilian noninstitutionalized population 18 to 64 years_In labor force_Employed_With health insurance coverage_With public coverage', 0.0), ('HEALTH INSURANCE COVERAGE_Civilian noninstitutionalized population 18 to 64 years_In labor force_Employed_No health insurance coverage', -0.00019965985918417756), ('HEALTH INSURANCE COVERAGE_Civilian noninstitutionalized population 18 to 64 years_In labor force_Unemployed', 0.0005897824764074219), ('HEALTH INSURANCE COVERAGE_Civilian noninstitutionalized population 18 to 64 years_In labor force_Unemployed_With health insurance coverage_With public coverage', 0.0), ('HEALTH INSURANCE COVERAGE_Civilian noninstitutionalized population 18 to 64 years_Not in labor force', -0.0004286115200644273), ('HEALTH INSURANCE COVERAGE_Civilian noninstitutionalized population 18 to 64 years_Not in labor force_With health insurance coverage_With public coverage', -0.0), ('HEALTH INSURANCE COVERAGE_Civilian noninstitutionalized population 18 to 64 years_Not in labor force_No health insurance coverage', -0.000332704137978755), ('year', 0.0), ('FIPS', -3.837185147042198e-12)]\n"
     ]
    }
   ],
   "source": [
    "model = Lasso()\n",
    "model.fit(X, y)\n",
    "print(list(zip(X.columns, model.coef_.tolist())))"
   ]
  },
  {
   "cell_type": "markdown",
   "id": "referenced-photography",
   "metadata": {},
   "source": [
    "## Ridge"
   ]
  },
  {
   "cell_type": "code",
   "execution_count": 6,
   "id": "sublime-worship",
   "metadata": {},
   "outputs": [
    {
     "name": "stdout",
     "output_type": "stream",
     "text": [
      "[('EMPLOYMENT STATUS_Population 16 years and over_In labor force_Civilian labor force', -0.0006254293359596894), ('EMPLOYMENT STATUS_Population 16 years and over_In labor force_Civilian labor force_Unemployed', -0.0010662788162214378), ('EMPLOYMENT STATUS_Population 16 years and over_In labor force_Armed Forces', -0.0003726109340223402), ('COMMUTING TO WORK_Workers 16 years and over_Car, truck, or van -- carpooled', -0.0004937810622204011), ('COMMUTING TO WORK_Workers 16 years and over_Public transportation (excluding taxicab)', -5.151696566143157e-05), ('COMMUTING TO WORK_Workers 16 years and over_Walked', 1.0499800269437273e-05), ('COMMUTING TO WORK_Workers 16 years and over_Other means', -0.0008219202088064477), ('COMMUTING TO WORK_Workers 16 years and over_Worked at home', 0.0005939718156031065), ('COMMUTING TO WORK_Mean travel time to work (minutes)', -0.013293862604368366), ('OCCUPATION_Civilian employed population 16 years and over', 0.000440855155800521), ('OCCUPATION_Civilian employed population 16 years and over_Service occupations', -0.00042497916178751863), ('OCCUPATION_Civilian employed population 16 years and over_Production, transportation, and material moving occupations', -0.0006834025339217449), ('INDUSTRY_Civilian employed population 16 years and over', 0.00044085363960496063), ('INDUSTRY_Civilian employed population 16 years and over_Agriculture, forestry, fishing and hunting, and mining', -9.297047976395941e-05), ('INDUSTRY_Civilian employed population 16 years and over_Construction', -0.0003627342187020306), ('INDUSTRY_Civilian employed population 16 years and over_Manufacturing', 0.0006024064309272743), ('INDUSTRY_Civilian employed population 16 years and over_Wholesale trade', -0.0005090280200731832), ('INDUSTRY_Civilian employed population 16 years and over_Transportation and warehousing, and utilities', -0.0007869851083077776), ('INDUSTRY_Civilian employed population 16 years and over_Information', 0.000531150533480102), ('INDUSTRY_Civilian employed population 16 years and over_Finance and insurance, and real estate and rental and leasing', -0.00037508020461702137), ('INDUSTRY_Civilian employed population 16 years and over_Professional, scientific, and management, and administrative and waste management services', -0.00011655570899889888), ('INDUSTRY_Civilian employed population 16 years and over_Arts, entertainment, and recreation, and accommodation and food services', 7.944687584192665e-05), ('INDUSTRY_Civilian employed population 16 years and over_Other services, except public administration', -3.08422448671508e-05), ('INDUSTRY_Civilian employed population 16 years and over_Public administration', -0.0004858895396785576), ('CLASS OF WORKER_Civilian employed population 16 years and over', 0.0004408508469142018), ('CLASS OF WORKER_Civilian employed population 16 years and over_Government workers', -6.465642907477193e-05), ('CLASS OF WORKER_Civilian employed population 16 years and over_Self-employed in own not incorporated business workers', 0.000959448242008275), ('CLASS OF WORKER_Civilian employed population 16 years and over_Unpaid family workers', 0.0014036077765303217), ('INCOME AND BENEFITS (IN 2015 INFLATION-ADJUSTED DOLLARS)_Total households_Less than $10,000', -9.15343463111385e-05), ('INCOME AND BENEFITS (IN 2015 INFLATION-ADJUSTED DOLLARS)_Total households_$10,000 to $14,999', -4.23428415990555e-05), ('INCOME AND BENEFITS (IN 2015 INFLATION-ADJUSTED DOLLARS)_With Social Security', 0.0003482966287538638), ('INCOME AND BENEFITS (IN 2015 INFLATION-ADJUSTED DOLLARS)_With Social Security_Mean Social Security income (dollars)', 3.62436796418428e-05), ('INCOME AND BENEFITS (IN 2015 INFLATION-ADJUSTED DOLLARS)_With retirement income_Mean retirement income (dollars)', -3.2134148383250263e-06), ('INCOME AND BENEFITS (IN 2015 INFLATION-ADJUSTED DOLLARS)_With Supplemental Security Income', -0.000640821501039283), ('INCOME AND BENEFITS (IN 2015 INFLATION-ADJUSTED DOLLARS)_With Supplemental Security Income_Mean Supplemental Security Income (dollars)', 6.987028434861537e-06), ('INCOME AND BENEFITS (IN 2015 INFLATION-ADJUSTED DOLLARS)_With cash public assistance income', 4.3425807989674406e-05), ('INCOME AND BENEFITS (IN 2015 INFLATION-ADJUSTED DOLLARS)_With cash public assistance income_Mean cash public assistance income (dollars)', 4.881977174838679e-08), ('INCOME AND BENEFITS (IN 2015 INFLATION-ADJUSTED DOLLARS)_With Food Stamp/SNAP benefits in the past 12 months', -0.0011103125034829517), ('INCOME AND BENEFITS (IN 2015 INFLATION-ADJUSTED DOLLARS)_Families_Less than $10,000', -0.0005753901036532511), ('INCOME AND BENEFITS (IN 2015 INFLATION-ADJUSTED DOLLARS)_Families_$10,000 to $14,999', -0.0008312119579548799), ('INCOME AND BENEFITS (IN 2015 INFLATION-ADJUSTED DOLLARS)_Families_$15,000 to $24,999', -0.0009147743180152677), ('INCOME AND BENEFITS (IN 2015 INFLATION-ADJUSTED DOLLARS)_Families_$25,000 to $34,999', -0.0008750968828007007), ('INCOME AND BENEFITS (IN 2015 INFLATION-ADJUSTED DOLLARS)_Families_$35,000 to $49,999', -0.00028713397857345666), ('INCOME AND BENEFITS (IN 2015 INFLATION-ADJUSTED DOLLARS)_Families_$50,000 to $74,999', 0.00013198231657296603), ('INCOME AND BENEFITS (IN 2015 INFLATION-ADJUSTED DOLLARS)_Families_$100,000 to $149,999', 0.00035085824893503), ('INCOME AND BENEFITS (IN 2015 INFLATION-ADJUSTED DOLLARS)_Families_$150,000 to $199,999', 0.00023665793909700687), ('INCOME AND BENEFITS (IN 2015 INFLATION-ADJUSTED DOLLARS)_Families_$200,000 or more', -0.003131729640216437), ('INCOME AND BENEFITS (IN 2015 INFLATION-ADJUSTED DOLLARS)_Families_Mean family income (dollars)', 1.4289565565317907e-05), ('INCOME AND BENEFITS (IN 2015 INFLATION-ADJUSTED DOLLARS)_Nonfamily households', -0.00051625332861927), ('INCOME AND BENEFITS (IN 2015 INFLATION-ADJUSTED DOLLARS)_Nonfamily households_Mean nonfamily income (dollars)', 3.2829342962114773e-06), ('INCOME AND BENEFITS (IN 2015 INFLATION-ADJUSTED DOLLARS)_Median earnings for female full-time, year-round workers (dollars)', 8.760643299051523e-06), ('HEALTH INSURANCE COVERAGE_Civilian noninstitutionalized population', 5.174552635476117e-05), ('HEALTH INSURANCE COVERAGE_Civilian noninstitutionalized population_With health insurance coverage_With public coverage', 4.357517658623718e-05), ('HEALTH INSURANCE COVERAGE_Civilian noninstitutionalized population under 18 years_No health insurance coverage', -0.00013568154907789339), ('HEALTH INSURANCE COVERAGE_Civilian noninstitutionalized population 18 to 64 years_In labor force_Employed_With health insurance coverage_With public coverage', 7.791330737134146e-06), ('HEALTH INSURANCE COVERAGE_Civilian noninstitutionalized population 18 to 64 years_In labor force_Employed_No health insurance coverage', -0.00017866255709928975), ('HEALTH INSURANCE COVERAGE_Civilian noninstitutionalized population 18 to 64 years_In labor force_Unemployed', 0.0012357411824191996), ('HEALTH INSURANCE COVERAGE_Civilian noninstitutionalized population 18 to 64 years_In labor force_Unemployed_With health insurance coverage_With public coverage', -0.00025896053549968683), ('HEALTH INSURANCE COVERAGE_Civilian noninstitutionalized population 18 to 64 years_Not in labor force', -0.000372717475257387), ('HEALTH INSURANCE COVERAGE_Civilian noninstitutionalized population 18 to 64 years_Not in labor force_With health insurance coverage_With public coverage', -0.00014956119207149994), ('HEALTH INSURANCE COVERAGE_Civilian noninstitutionalized population 18 to 64 years_Not in labor force_No health insurance coverage', -0.0004305172031452857), ('year', 0.0026622960535001095), ('FIPS', -3.3625309028784164e-12)]\n"
     ]
    }
   ],
   "source": [
    "model = Ridge() # What does alpha default to? What do the coefficients look like?\n",
    "model.fit(X, y)\n",
    "print(list(zip(X.columns, model.coef_.tolist())))"
   ]
  },
  {
   "cell_type": "markdown",
   "id": "vietnamese-anime",
   "metadata": {},
   "source": [
    "## ElasticNet"
   ]
  },
  {
   "cell_type": "code",
   "execution_count": 8,
   "id": "legitimate-massage",
   "metadata": {},
   "outputs": [
    {
     "name": "stdout",
     "output_type": "stream",
     "text": [
      "[('EMPLOYMENT STATUS_Population 16 years and over_In labor force_Civilian labor force', 0.0), ('EMPLOYMENT STATUS_Population 16 years and over_In labor force_Civilian labor force_Unemployed', -0.0016507138675723532), ('EMPLOYMENT STATUS_Population 16 years and over_In labor force_Armed Forces', -0.00019481978203702768), ('COMMUTING TO WORK_Workers 16 years and over_Car, truck, or van -- carpooled', -0.0005077844645007288), ('COMMUTING TO WORK_Workers 16 years and over_Public transportation (excluding taxicab)', -0.00028908003179831067), ('COMMUTING TO WORK_Workers 16 years and over_Walked', 9.911582334190056e-05), ('COMMUTING TO WORK_Workers 16 years and over_Other means', -0.0003494922476092569), ('COMMUTING TO WORK_Workers 16 years and over_Worked at home', 0.00043994607862132926), ('COMMUTING TO WORK_Mean travel time to work (minutes)', -0.0), ('OCCUPATION_Civilian employed population 16 years and over', 0.00048368295940063623), ('OCCUPATION_Civilian employed population 16 years and over_Service occupations', -0.0002980107174728472), ('OCCUPATION_Civilian employed population 16 years and over_Production, transportation, and material moving occupations', -0.0006325627031506919), ('INDUSTRY_Civilian employed population 16 years and over', 0.00010613060124769643), ('INDUSTRY_Civilian employed population 16 years and over_Agriculture, forestry, fishing and hunting, and mining', 0.0), ('INDUSTRY_Civilian employed population 16 years and over_Construction', -0.0004986940018428437), ('INDUSTRY_Civilian employed population 16 years and over_Manufacturing', 0.0006240623065062099), ('INDUSTRY_Civilian employed population 16 years and over_Wholesale trade', -0.00018724179497725229), ('INDUSTRY_Civilian employed population 16 years and over_Transportation and warehousing, and utilities', -0.000809729420568474), ('INDUSTRY_Civilian employed population 16 years and over_Information', 8.49255535775132e-06), ('INDUSTRY_Civilian employed population 16 years and over_Finance and insurance, and real estate and rental and leasing', -0.00011834192977050218), ('INDUSTRY_Civilian employed population 16 years and over_Professional, scientific, and management, and administrative and waste management services', -0.00011962437408351635), ('INDUSTRY_Civilian employed population 16 years and over_Arts, entertainment, and recreation, and accommodation and food services', 3.317578802192019e-05), ('INDUSTRY_Civilian employed population 16 years and over_Other services, except public administration', -0.0), ('INDUSTRY_Civilian employed population 16 years and over_Public administration', -0.0004743734663929279), ('CLASS OF WORKER_Civilian employed population 16 years and over', 5.825341822329687e-05), ('CLASS OF WORKER_Civilian employed population 16 years and over_Government workers', -0.0), ('CLASS OF WORKER_Civilian employed population 16 years and over_Self-employed in own not incorporated business workers', 0.0008522748052177421), ('CLASS OF WORKER_Civilian employed population 16 years and over_Unpaid family workers', 0.0), ('INCOME AND BENEFITS (IN 2015 INFLATION-ADJUSTED DOLLARS)_Total households_Less than $10,000', -0.00016070550394891358), ('INCOME AND BENEFITS (IN 2015 INFLATION-ADJUSTED DOLLARS)_Total households_$10,000 to $14,999', -9.435945607213119e-06), ('INCOME AND BENEFITS (IN 2015 INFLATION-ADJUSTED DOLLARS)_With Social Security', 0.0003010671246379399), ('INCOME AND BENEFITS (IN 2015 INFLATION-ADJUSTED DOLLARS)_With Social Security_Mean Social Security income (dollars)', 3.9966274643832196e-05), ('INCOME AND BENEFITS (IN 2015 INFLATION-ADJUSTED DOLLARS)_With retirement income_Mean retirement income (dollars)', -3.4771677815708306e-06), ('INCOME AND BENEFITS (IN 2015 INFLATION-ADJUSTED DOLLARS)_With Supplemental Security Income', -0.000542128889820417), ('INCOME AND BENEFITS (IN 2015 INFLATION-ADJUSTED DOLLARS)_With Supplemental Security Income_Mean Supplemental Security Income (dollars)', 6.730481055518534e-06), ('INCOME AND BENEFITS (IN 2015 INFLATION-ADJUSTED DOLLARS)_With cash public assistance income', -0.0), ('INCOME AND BENEFITS (IN 2015 INFLATION-ADJUSTED DOLLARS)_With cash public assistance income_Mean cash public assistance income (dollars)', -5.9390109426642835e-08), ('INCOME AND BENEFITS (IN 2015 INFLATION-ADJUSTED DOLLARS)_With Food Stamp/SNAP benefits in the past 12 months', -0.0012715599860736193), ('INCOME AND BENEFITS (IN 2015 INFLATION-ADJUSTED DOLLARS)_Families_Less than $10,000', -0.00029586610346399626), ('INCOME AND BENEFITS (IN 2015 INFLATION-ADJUSTED DOLLARS)_Families_$10,000 to $14,999', -0.00048127004518015145), ('INCOME AND BENEFITS (IN 2015 INFLATION-ADJUSTED DOLLARS)_Families_$15,000 to $24,999', -0.0008626661050401731), ('INCOME AND BENEFITS (IN 2015 INFLATION-ADJUSTED DOLLARS)_Families_$25,000 to $34,999', -0.0007853791342019937), ('INCOME AND BENEFITS (IN 2015 INFLATION-ADJUSTED DOLLARS)_Families_$35,000 to $49,999', -0.00019884980777448144), ('INCOME AND BENEFITS (IN 2015 INFLATION-ADJUSTED DOLLARS)_Families_$50,000 to $74,999', 2.6679968447190097e-05), ('INCOME AND BENEFITS (IN 2015 INFLATION-ADJUSTED DOLLARS)_Families_$100,000 to $149,999', 0.00031381150646736126), ('INCOME AND BENEFITS (IN 2015 INFLATION-ADJUSTED DOLLARS)_Families_$150,000 to $199,999', 0.0), ('INCOME AND BENEFITS (IN 2015 INFLATION-ADJUSTED DOLLARS)_Families_$200,000 or more', -0.00290502535979975), ('INCOME AND BENEFITS (IN 2015 INFLATION-ADJUSTED DOLLARS)_Families_Mean family income (dollars)', 1.442791974728229e-05), ('INCOME AND BENEFITS (IN 2015 INFLATION-ADJUSTED DOLLARS)_Nonfamily households', -0.00039701330479501685), ('INCOME AND BENEFITS (IN 2015 INFLATION-ADJUSTED DOLLARS)_Nonfamily households_Mean nonfamily income (dollars)', 2.88749153064942e-06), ('INCOME AND BENEFITS (IN 2015 INFLATION-ADJUSTED DOLLARS)_Median earnings for female full-time, year-round workers (dollars)', 8.486100829698069e-06), ('HEALTH INSURANCE COVERAGE_Civilian noninstitutionalized population', 6.0248777205301056e-05), ('HEALTH INSURANCE COVERAGE_Civilian noninstitutionalized population_With health insurance coverage_With public coverage', 3.585544820563518e-05), ('HEALTH INSURANCE COVERAGE_Civilian noninstitutionalized population under 18 years_No health insurance coverage', -0.0), ('HEALTH INSURANCE COVERAGE_Civilian noninstitutionalized population 18 to 64 years_In labor force_Employed_With health insurance coverage_With public coverage', 0.0), ('HEALTH INSURANCE COVERAGE_Civilian noninstitutionalized population 18 to 64 years_In labor force_Employed_No health insurance coverage', -0.00019364269925264407), ('HEALTH INSURANCE COVERAGE_Civilian noninstitutionalized population 18 to 64 years_In labor force_Unemployed', 0.0008772728410443181), ('HEALTH INSURANCE COVERAGE_Civilian noninstitutionalized population 18 to 64 years_In labor force_Unemployed_With health insurance coverage_With public coverage', 0.0), ('HEALTH INSURANCE COVERAGE_Civilian noninstitutionalized population 18 to 64 years_Not in labor force', -0.0004194909056778371), ('HEALTH INSURANCE COVERAGE_Civilian noninstitutionalized population 18 to 64 years_Not in labor force_With health insurance coverage_With public coverage', -6.209701221165625e-05), ('HEALTH INSURANCE COVERAGE_Civilian noninstitutionalized population 18 to 64 years_Not in labor force_No health insurance coverage', -0.0004079279332284541), ('year', 0.0), ('FIPS', -3.661623223790349e-12)]\n"
     ]
    }
   ],
   "source": [
    "model = ElasticNet() # What does alpha default to? What do the coefficients look like?\n",
    "model.fit(X, y)\n",
    "print(list(zip(X.columns, model.coef_.tolist())))"
   ]
  },
  {
   "cell_type": "code",
   "execution_count": 9,
   "id": "realistic-vampire",
   "metadata": {},
   "outputs": [
    {
     "name": "stdout",
     "output_type": "stream",
     "text": [
      "[('EMPLOYMENT STATUS_Population 16 years and over_In labor force_Civilian labor force', 0.0), ('EMPLOYMENT STATUS_Population 16 years and over_In labor force_Civilian labor force_Unemployed', -0.0), ('EMPLOYMENT STATUS_Population 16 years and over_In labor force_Armed Forces', 0.0), ('COMMUTING TO WORK_Workers 16 years and over_Car, truck, or van -- carpooled', -0.0), ('COMMUTING TO WORK_Workers 16 years and over_Public transportation (excluding taxicab)', -0.0), ('COMMUTING TO WORK_Workers 16 years and over_Walked', 0.0), ('COMMUTING TO WORK_Workers 16 years and over_Other means', -0.0), ('COMMUTING TO WORK_Workers 16 years and over_Worked at home', 0.0), ('COMMUTING TO WORK_Mean travel time to work (minutes)', -0.0), ('OCCUPATION_Civilian employed population 16 years and over', 6.82872991597567e-05), ('OCCUPATION_Civilian employed population 16 years and over_Service occupations', -0.0), ('OCCUPATION_Civilian employed population 16 years and over_Production, transportation, and material moving occupations', 0.0), ('INDUSTRY_Civilian employed population 16 years and over', 1.4001146715392428e-07), ('INDUSTRY_Civilian employed population 16 years and over_Agriculture, forestry, fishing and hunting, and mining', 0.0), ('INDUSTRY_Civilian employed population 16 years and over_Construction', 0.0), ('INDUSTRY_Civilian employed population 16 years and over_Manufacturing', 0.0), ('INDUSTRY_Civilian employed population 16 years and over_Wholesale trade', 0.0), ('INDUSTRY_Civilian employed population 16 years and over_Transportation and warehousing, and utilities', 0.0), ('INDUSTRY_Civilian employed population 16 years and over_Information', 0.0), ('INDUSTRY_Civilian employed population 16 years and over_Finance and insurance, and real estate and rental and leasing', 0.0), ('INDUSTRY_Civilian employed population 16 years and over_Professional, scientific, and management, and administrative and waste management services', 0.0), ('INDUSTRY_Civilian employed population 16 years and over_Arts, entertainment, and recreation, and accommodation and food services', 0.0), ('INDUSTRY_Civilian employed population 16 years and over_Other services, except public administration', 0.0), ('INDUSTRY_Civilian employed population 16 years and over_Public administration', 0.0), ('CLASS OF WORKER_Civilian employed population 16 years and over', 1.5033024837332905e-10), ('CLASS OF WORKER_Civilian employed population 16 years and over_Government workers', 0.0), ('CLASS OF WORKER_Civilian employed population 16 years and over_Self-employed in own not incorporated business workers', 0.0), ('CLASS OF WORKER_Civilian employed population 16 years and over_Unpaid family workers', 0.0), ('INCOME AND BENEFITS (IN 2015 INFLATION-ADJUSTED DOLLARS)_Total households_Less than $10,000', -0.0), ('INCOME AND BENEFITS (IN 2015 INFLATION-ADJUSTED DOLLARS)_Total households_$10,000 to $14,999', -0.0), ('INCOME AND BENEFITS (IN 2015 INFLATION-ADJUSTED DOLLARS)_With Social Security', -0.0), ('INCOME AND BENEFITS (IN 2015 INFLATION-ADJUSTED DOLLARS)_With Social Security_Mean Social Security income (dollars)', 8.174035249484214e-05), ('INCOME AND BENEFITS (IN 2015 INFLATION-ADJUSTED DOLLARS)_With retirement income_Mean retirement income (dollars)', -7.524606191461428e-06), ('INCOME AND BENEFITS (IN 2015 INFLATION-ADJUSTED DOLLARS)_With Supplemental Security Income', -0.0), ('INCOME AND BENEFITS (IN 2015 INFLATION-ADJUSTED DOLLARS)_With Supplemental Security Income_Mean Supplemental Security Income (dollars)', 2.1162546208743223e-06), ('INCOME AND BENEFITS (IN 2015 INFLATION-ADJUSTED DOLLARS)_With cash public assistance income', -0.0), ('INCOME AND BENEFITS (IN 2015 INFLATION-ADJUSTED DOLLARS)_With cash public assistance income_Mean cash public assistance income (dollars)', 0.0), ('INCOME AND BENEFITS (IN 2015 INFLATION-ADJUSTED DOLLARS)_With Food Stamp/SNAP benefits in the past 12 months', -0.0), ('INCOME AND BENEFITS (IN 2015 INFLATION-ADJUSTED DOLLARS)_Families_Less than $10,000', -0.0), ('INCOME AND BENEFITS (IN 2015 INFLATION-ADJUSTED DOLLARS)_Families_$10,000 to $14,999', -0.0), ('INCOME AND BENEFITS (IN 2015 INFLATION-ADJUSTED DOLLARS)_Families_$15,000 to $24,999', -0.0), ('INCOME AND BENEFITS (IN 2015 INFLATION-ADJUSTED DOLLARS)_Families_$25,000 to $34,999', -0.0), ('INCOME AND BENEFITS (IN 2015 INFLATION-ADJUSTED DOLLARS)_Families_$35,000 to $49,999', 0.0), ('INCOME AND BENEFITS (IN 2015 INFLATION-ADJUSTED DOLLARS)_Families_$50,000 to $74,999', 0.0), ('INCOME AND BENEFITS (IN 2015 INFLATION-ADJUSTED DOLLARS)_Families_$100,000 to $149,999', 0.0), ('INCOME AND BENEFITS (IN 2015 INFLATION-ADJUSTED DOLLARS)_Families_$150,000 to $199,999', 0.0), ('INCOME AND BENEFITS (IN 2015 INFLATION-ADJUSTED DOLLARS)_Families_$200,000 or more', -0.0), ('INCOME AND BENEFITS (IN 2015 INFLATION-ADJUSTED DOLLARS)_Families_Mean family income (dollars)', 1.7303024214707557e-05), ('INCOME AND BENEFITS (IN 2015 INFLATION-ADJUSTED DOLLARS)_Nonfamily households', -0.0), ('INCOME AND BENEFITS (IN 2015 INFLATION-ADJUSTED DOLLARS)_Nonfamily households_Mean nonfamily income (dollars)', 5.248291256163072e-06), ('INCOME AND BENEFITS (IN 2015 INFLATION-ADJUSTED DOLLARS)_Median earnings for female full-time, year-round workers (dollars)', 1.3576508707627006e-05), ('HEALTH INSURANCE COVERAGE_Civilian noninstitutionalized population', 0.0), ('HEALTH INSURANCE COVERAGE_Civilian noninstitutionalized population_With health insurance coverage_With public coverage', -0.0), ('HEALTH INSURANCE COVERAGE_Civilian noninstitutionalized population under 18 years_No health insurance coverage', -0.0), ('HEALTH INSURANCE COVERAGE_Civilian noninstitutionalized population 18 to 64 years_In labor force_Employed_With health insurance coverage_With public coverage', -0.0), ('HEALTH INSURANCE COVERAGE_Civilian noninstitutionalized population 18 to 64 years_In labor force_Employed_No health insurance coverage', -0.0), ('HEALTH INSURANCE COVERAGE_Civilian noninstitutionalized population 18 to 64 years_In labor force_Unemployed', -0.0), ('HEALTH INSURANCE COVERAGE_Civilian noninstitutionalized population 18 to 64 years_In labor force_Unemployed_With health insurance coverage_With public coverage', -0.0), ('HEALTH INSURANCE COVERAGE_Civilian noninstitutionalized population 18 to 64 years_Not in labor force', -0.0), ('HEALTH INSURANCE COVERAGE_Civilian noninstitutionalized population 18 to 64 years_Not in labor force_With health insurance coverage_With public coverage', -0.0), ('HEALTH INSURANCE COVERAGE_Civilian noninstitutionalized population 18 to 64 years_Not in labor force_No health insurance coverage', -0.0), ('year', -0.0), ('FIPS', -3.004721222040998e-12)]\n"
     ]
    }
   ],
   "source": [
    "model = ElasticNet(alpha=200) # What does alpha default to? What do the coefficients look like?\n",
    "model.fit(X, y)\n",
    "print(list(zip(X.columns, model.coef_.tolist())))"
   ]
  },
  {
   "cell_type": "code",
   "execution_count": null,
   "id": "ruled-enzyme",
   "metadata": {},
   "outputs": [],
   "source": []
  },
  {
   "cell_type": "code",
   "execution_count": null,
   "id": "quick-brand",
   "metadata": {},
   "outputs": [],
   "source": []
  }
 ],
 "metadata": {
  "kernelspec": {
   "display_name": "Python 3",
   "language": "python",
   "name": "python3"
  },
  "language_info": {
   "codemirror_mode": {
    "name": "ipython",
    "version": 3
   },
   "file_extension": ".py",
   "mimetype": "text/x-python",
   "name": "python",
   "nbconvert_exporter": "python",
   "pygments_lexer": "ipython3",
   "version": "3.8.5"
  }
 },
 "nbformat": 4,
 "nbformat_minor": 5
}
