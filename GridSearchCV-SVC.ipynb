{
 "cells": [
  {
   "cell_type": "code",
   "execution_count": 1,
   "id": "accompanied-pearl",
   "metadata": {},
   "outputs": [
    {
     "name": "stdout",
     "output_type": "stream",
     "text": [
      "Program run at 2021-06-22 18:31:16.451538\n"
     ]
    }
   ],
   "source": [
    "import pandas as pd\n",
    "import numpy as np\n",
    "from datetime import datetime as dt\n",
    "import io, s3fs, json, traceback\n",
    "pd.set_option('display.max_columns', None)\n",
    "print('Program run at', dt.now())"
   ]
  },
  {
   "cell_type": "code",
   "execution_count": 2,
   "id": "solved-ready",
   "metadata": {},
   "outputs": [],
   "source": [
    "from pandas import plotting\n",
    "import matplotlib.pyplot as plt\n",
    "\n",
    "# Ignore warnings from scikit-learn to make this notebook a bit nicer\n",
    "import warnings\n",
    "warnings.simplefilter('ignore')\n",
    "\n",
    "# Models may be implemented as pipelines\n",
    "from sklearn.pipeline import Pipeline\n",
    "\n",
    "# Used to divide our dataseets into train/test splits\n",
    "# Data will be randomly shuffled so running this notebook multiple times may lead to different results\n",
    "from sklearn.model_selection import train_test_split as tts\n",
    "\n",
    "# Visual analysis of model performance\n",
    "from yellowbrick.classifier import confusion_matrix\n",
    "from yellowbrick.classifier import classification_report\n",
    "from yellowbrick.regressor import prediction_error, ResidualsPlot\n",
    "\n",
    "# Set the default figure size for matplotlib\n",
    "plt.rcParams['figure.figsize'] = (9, 6)\n",
    "\n",
    "\n",
    "from sklearn.metrics import f1_score\n",
    "from sklearn.svm import LinearSVC, NuSVC, SVC\n",
    "from sklearn.preprocessing import OneHotEncoder, LabelEncoder\n",
    "from sklearn.ensemble import BaggingClassifier, ExtraTreesClassifier, RandomForestClassifier\n",
    "#Pipeline toolset\n",
    "from sklearn.compose import ColumnTransformer, make_column_selector\n",
    "from sklearn.preprocessing import RobustScaler, OrdinalEncoder, StandardScaler, MinMaxScaler\n",
    "\n",
    "#Model toolset\n",
    "from sklearn.ensemble import RandomForestClassifier\n",
    "from sklearn.ensemble import RandomForestRegressor\n",
    "from sklearn.neighbors import KNeighborsClassifier\n",
    "from sklearn.linear_model import LogisticRegression\n",
    "from sklearn.naive_bayes import MultinomialNB\n",
    "from sklearn.naive_bayes import GaussianNB\n",
    "from sklearn.naive_bayes import BernoulliNB\n",
    "from sklearn.linear_model import Ridge\n",
    "from sklearn.ensemble import AdaBoostClassifier\n",
    "from sklearn.tree import DecisionTreeClassifier\n",
    "from sklearn.ensemble import GradientBoostingClassifier\n",
    "from xgboost import XGBClassifier as xgb\n",
    "from xgboost import plot_importance\n",
    "from sklearn.linear_model import Ridge, Lasso, ElasticNet\n",
    "from sklearn.model_selection import GridSearchCV\n",
    "\n",
    "#Evaluation toolset\n",
    "from sklearn.model_selection import StratifiedKFold, cross_val_score\n",
    "from yellowbrick.classifier import ConfusionMatrix\n",
    "from yellowbrick.classifier import ClassificationReport\n",
    "from yellowbrick.features import FeatureImportances\n",
    "from sklearn.metrics import accuracy_score\n",
    "from yellowbrick.classifier import ROCAUC\n",
    "\n",
    "#from yellowbrick.datasets import load_game\n",
    "from yellowbrick.target import ClassBalance\n",
    "from sklearn.utils import resample\n",
    "\n",
    "from sklearn.model_selection import train_test_split as tts\n",
    "from sklearn.impute import SimpleImputer"
   ]
  },
  {
   "cell_type": "code",
   "execution_count": 3,
   "id": "prescription-corruption",
   "metadata": {},
   "outputs": [],
   "source": [
    "est = pd.read_csv('s3://bleeding-hearts/workingdata/merge_est.csv')\n",
    "est_rmv = pd.read_csv('s3://bleeding-hearts/workingdata/est_rmv.csv')"
   ]
  },
  {
   "cell_type": "code",
   "execution_count": 4,
   "id": "atomic-advantage",
   "metadata": {},
   "outputs": [
    {
     "name": "stdout",
     "output_type": "stream",
     "text": [
      "<class 'pandas.core.frame.DataFrame'>\n",
      "RangeIndex: 18208 entries, 0 to 18207\n",
      "Data columns (total 58 columns):\n",
      " #   Column                                                                                                                                                         Non-Null Count  Dtype  \n",
      "---  ------                                                                                                                                                         --------------  -----  \n",
      " 0   Unnamed: 0                                                                                                                                                     18208 non-null  int64  \n",
      " 1   EMPLOYMENT STATUS_Population 16 years and over_In labor force_Civilian labor force                                                                             18208 non-null  float64\n",
      " 2   EMPLOYMENT STATUS_Population 16 years and over_In labor force_Civilian labor force_Unemployed                                                                  18208 non-null  float64\n",
      " 3   EMPLOYMENT STATUS_Population 16 years and over_In labor force_Armed Forces                                                                                     18208 non-null  float64\n",
      " 4   COMMUTING TO WORK_Workers 16 years and over_Car, truck, or van -- carpooled                                                                                    18208 non-null  float64\n",
      " 5   COMMUTING TO WORK_Workers 16 years and over_Public transportation (excluding taxicab)                                                                          18208 non-null  float64\n",
      " 6   COMMUTING TO WORK_Workers 16 years and over_Walked                                                                                                             18208 non-null  float64\n",
      " 7   COMMUTING TO WORK_Workers 16 years and over_Other means                                                                                                        18208 non-null  float64\n",
      " 8   COMMUTING TO WORK_Workers 16 years and over_Worked at home                                                                                                     18208 non-null  float64\n",
      " 9   COMMUTING TO WORK_Mean travel time to work (minutes)                                                                                                           18208 non-null  float64\n",
      " 10  OCCUPATION_Civilian employed population 16 years and over                                                                                                      18208 non-null  float64\n",
      " 11  OCCUPATION_Civilian employed population 16 years and over_Service occupations                                                                                  18208 non-null  float64\n",
      " 12  OCCUPATION_Civilian employed population 16 years and over_Production, transportation, and material moving occupations                                          18208 non-null  float64\n",
      " 13  INDUSTRY_Civilian employed population 16 years and over                                                                                                        18208 non-null  float64\n",
      " 14  INDUSTRY_Civilian employed population 16 years and over_Agriculture, forestry, fishing and hunting, and mining                                                 18208 non-null  float64\n",
      " 15  INDUSTRY_Civilian employed population 16 years and over_Construction                                                                                           18208 non-null  float64\n",
      " 16  INDUSTRY_Civilian employed population 16 years and over_Manufacturing                                                                                          18208 non-null  float64\n",
      " 17  INDUSTRY_Civilian employed population 16 years and over_Wholesale trade                                                                                        18208 non-null  float64\n",
      " 18  INDUSTRY_Civilian employed population 16 years and over_Transportation and warehousing, and utilities                                                          18208 non-null  float64\n",
      " 19  INDUSTRY_Civilian employed population 16 years and over_Information                                                                                            18208 non-null  float64\n",
      " 20  INDUSTRY_Civilian employed population 16 years and over_Finance and insurance, and real estate and rental and leasing                                          18208 non-null  float64\n",
      " 21  INDUSTRY_Civilian employed population 16 years and over_Professional, scientific, and management, and administrative and waste management services             18208 non-null  float64\n",
      " 22  INDUSTRY_Civilian employed population 16 years and over_Arts, entertainment, and recreation, and accommodation and food services                               18208 non-null  float64\n",
      " 23  INDUSTRY_Civilian employed population 16 years and over_Other services, except public administration                                                           18208 non-null  float64\n",
      " 24  INDUSTRY_Civilian employed population 16 years and over_Public administration                                                                                  18208 non-null  float64\n",
      " 25  CLASS OF WORKER_Civilian employed population 16 years and over                                                                                                 18208 non-null  float64\n",
      " 26  CLASS OF WORKER_Civilian employed population 16 years and over_Government workers                                                                              18208 non-null  float64\n",
      " 27  CLASS OF WORKER_Civilian employed population 16 years and over_Self-employed in own not incorporated business workers                                          18208 non-null  float64\n",
      " 28  CLASS OF WORKER_Civilian employed population 16 years and over_Unpaid family workers                                                                           18208 non-null  float64\n",
      " 29  INCOME AND BENEFITS (IN 2015 INFLATION-ADJUSTED DOLLARS)_Total households_Less than $10,000                                                                    18208 non-null  float64\n",
      " 30  INCOME AND BENEFITS (IN 2015 INFLATION-ADJUSTED DOLLARS)_Total households_$10,000 to $14,999                                                                   18208 non-null  float64\n",
      " 31  INCOME AND BENEFITS (IN 2015 INFLATION-ADJUSTED DOLLARS)_With Social Security                                                                                  18208 non-null  float64\n",
      " 32  INCOME AND BENEFITS (IN 2015 INFLATION-ADJUSTED DOLLARS)_With Social Security_Mean Social Security income (dollars)                                            18208 non-null  float64\n",
      " 33  INCOME AND BENEFITS (IN 2015 INFLATION-ADJUSTED DOLLARS)_With retirement income_Mean retirement income (dollars)                                               18208 non-null  float64\n",
      " 34  INCOME AND BENEFITS (IN 2015 INFLATION-ADJUSTED DOLLARS)_With Supplemental Security Income                                                                     18208 non-null  float64\n",
      " 35  INCOME AND BENEFITS (IN 2015 INFLATION-ADJUSTED DOLLARS)_With Supplemental Security Income_Mean Supplemental Security Income (dollars)                         18208 non-null  float64\n",
      " 36  INCOME AND BENEFITS (IN 2015 INFLATION-ADJUSTED DOLLARS)_With cash public assistance income                                                                    18208 non-null  float64\n",
      " 37  INCOME AND BENEFITS (IN 2015 INFLATION-ADJUSTED DOLLARS)_With cash public assistance income_Mean cash public assistance income (dollars)                       18208 non-null  float64\n",
      " 38  INCOME AND BENEFITS (IN 2015 INFLATION-ADJUSTED DOLLARS)_With Food Stamp/SNAP benefits in the past 12 months                                                   18208 non-null  float64\n",
      " 39  INCOME AND BENEFITS (IN 2015 INFLATION-ADJUSTED DOLLARS)_Families_Less than $10,000                                                                            18208 non-null  float64\n",
      " 40  INCOME AND BENEFITS (IN 2015 INFLATION-ADJUSTED DOLLARS)_Families_$10,000 to $14,999                                                                           18208 non-null  float64\n",
      " 41  INCOME AND BENEFITS (IN 2015 INFLATION-ADJUSTED DOLLARS)_Families_$15,000 to $24,999                                                                           18208 non-null  float64\n",
      " 42  INCOME AND BENEFITS (IN 2015 INFLATION-ADJUSTED DOLLARS)_Families_$25,000 to $34,999                                                                           18208 non-null  float64\n",
      " 43  INCOME AND BENEFITS (IN 2015 INFLATION-ADJUSTED DOLLARS)_Families_$35,000 to $49,999                                                                           18208 non-null  float64\n",
      " 44  INCOME AND BENEFITS (IN 2015 INFLATION-ADJUSTED DOLLARS)_Families_$50,000 to $74,999                                                                           18208 non-null  float64\n",
      " 45  INCOME AND BENEFITS (IN 2015 INFLATION-ADJUSTED DOLLARS)_Families_$100,000 to $149,999                                                                         18208 non-null  float64\n",
      " 46  INCOME AND BENEFITS (IN 2015 INFLATION-ADJUSTED DOLLARS)_Families_$150,000 to $199,999                                                                         18208 non-null  float64\n",
      " 47  INCOME AND BENEFITS (IN 2015 INFLATION-ADJUSTED DOLLARS)_Families_$200,000 or more                                                                             18208 non-null  float64\n",
      " 48  INCOME AND BENEFITS (IN 2015 INFLATION-ADJUSTED DOLLARS)_Families_Mean family income (dollars)                                                                 18208 non-null  float64\n",
      " 49  INCOME AND BENEFITS (IN 2015 INFLATION-ADJUSTED DOLLARS)_Nonfamily households                                                                                  18208 non-null  float64\n",
      " 50  INCOME AND BENEFITS (IN 2015 INFLATION-ADJUSTED DOLLARS)_Nonfamily households_Mean nonfamily income (dollars)                                                  18208 non-null  float64\n",
      " 51  INCOME AND BENEFITS (IN 2015 INFLATION-ADJUSTED DOLLARS)_Median earnings for female full-time, year-round workers (dollars)                                    18208 non-null  float64\n",
      " 52  HEALTH INSURANCE COVERAGE_Civilian noninstitutionalized population                                                                                             18208 non-null  float64\n",
      " 53  HEALTH INSURANCE COVERAGE_Civilian noninstitutionalized population_With health insurance coverage_With public coverage                                         18208 non-null  float64\n",
      " 54  HEALTH INSURANCE COVERAGE_Civilian noninstitutionalized population under 18 years_No health insurance coverage                                                 18208 non-null  float64\n",
      " 55  HEALTH INSURANCE COVERAGE_Civilian noninstitutionalized population 18 to 64 years_In labor force_Employed_With health insurance coverage_With public coverage  18208 non-null  float64\n",
      " 56  HEALTH INSURANCE COVERAGE_Civilian noninstitutionalized population 18 to 64 years_In labor force_Employed_No health insurance coverage                         18208 non-null  float64\n",
      " 57  Child Opportunity Levels, overall COI, nationally-normed                                                                                                       18208 non-null  object \n",
      "dtypes: float64(56), int64(1), object(1)\n",
      "memory usage: 8.1+ MB\n"
     ]
    }
   ],
   "source": [
    "#remove COI columns except for target: Child Opportunity Levels, overall COI, nationally-normed\n",
    "cols=list(est_rmv)\n",
    "coi_cols=cols[-8:]\n",
    "coi_cols.remove('Child Opportunity Levels, overall COI, nationally-normed')\n",
    "clean_cols = [i for i in cols if i not in coi_cols]\n",
    "est_rmv = est_rmv[clean_cols]\n",
    "est_rmv.info()"
   ]
  },
  {
   "cell_type": "code",
   "execution_count": 5,
   "id": "placed-cigarette",
   "metadata": {},
   "outputs": [],
   "source": [
    "categorical = make_column_selector(dtype_include=np.object)\n",
    "numeric = make_column_selector(dtype_include=np.int64)\n",
    "numeric2 = make_column_selector(dtype_include=np.float64)"
   ]
  },
  {
   "cell_type": "code",
   "execution_count": 6,
   "id": "continental-version",
   "metadata": {},
   "outputs": [],
   "source": [
    "cat_labels = list(set(est_rmv['Child Opportunity Levels, overall COI, nationally-normed']))"
   ]
  },
  {
   "cell_type": "code",
   "execution_count": 7,
   "id": "treated-legend",
   "metadata": {},
   "outputs": [],
   "source": [
    "def assess_missing(df):\n",
    "    missing_dict = {}\n",
    "    cols=list(df)\n",
    "    for c in cols:\n",
    "        if len(df) - df[c].count() > 0:\n",
    "             missing_dict[c] = ((len(df) - df[c].count())/len(df))*100\n",
    "    return missing_dict"
   ]
  },
  {
   "cell_type": "code",
   "execution_count": 8,
   "id": "arabic-creativity",
   "metadata": {},
   "outputs": [],
   "source": [
    "def viz_cb(y,lst):\n",
    "    visualizer = ClassBalance(labels=lst)\n",
    "    visualizer.fit(y)        # Fit the data to the visualizer\n",
    "    visualizer.show()        # Finalize and render the figure"
   ]
  },
  {
   "cell_type": "code",
   "execution_count": 9,
   "id": "documented-result",
   "metadata": {},
   "outputs": [],
   "source": [
    "def visualize_model(X, y, estimator,label_lst, **kwargs):\n",
    "    \"\"\"\n",
    "    Test various estimators.\n",
    "    \"\"\"\n",
    "    y = LabelEncoder().fit_transform(y)\n",
    "    model = Pipeline([\n",
    "    (\"columns\", ColumnTransformer([\n",
    "        ('onehot', OneHotEncoder(), categorical),\n",
    "        ('scalar', RobustScaler(), numeric),\n",
    "        ('scalar2', RobustScaler(), numeric2),\n",
    "    ], remainder='drop')),\n",
    "        (\"imputer\",SimpleImputer(missing_values=np.nan, strategy='mean')),\n",
    "    ('estimator', estimator)\n",
    "])\n",
    "\n",
    "    X_train, X_test, y_train, y_test = tts(X, y, test_size=0.2)\n",
    "    # Instantiate the classification model and visualizer\n",
    "    visualizer = ClassificationReport(\n",
    "        model, classes=label_lst,\n",
    "        cmap=\"YlGn\", size=(600, 360), **kwargs\n",
    "    )\n",
    "    visualizer.fit(X_train, y_train)\n",
    "    visualizer.score(X_test, y_test)\n",
    "    visualizer.show()"
   ]
  },
  {
   "cell_type": "code",
   "execution_count": 10,
   "id": "existing-departure",
   "metadata": {},
   "outputs": [],
   "source": [
    "def class_balance(df,target):\n",
    "    print('Raw Value Counts:','\\n',df[target].value_counts())\n",
    "    X = df.loc[:, df.columns != target]\n",
    "    y = df[target]\n",
    "    #make a dataframe of value counts and a list of the values in the target\n",
    "    df1 = y.value_counts().to_frame('count').reset_index(level=0).rename(columns={'index':'value'})\n",
    "    label_lst = list(df1['value'])\n",
    "    \n",
    "    viz_cb(y,label_lst)\n",
    "\n",
    "    #identify minimum value number and label name\n",
    "    mi = df1['count'].min()\n",
    "    name = df1.loc[df1['count'] == mi,'value'].iloc[0]\n",
    "    print('min value is',name,'in values',label_lst)\n",
    "\n",
    "    seed = 123\n",
    "    # Downsample majority class\n",
    "    \n",
    "    #use min value number and label name to resample the dataframe\n",
    "    df2 = pd.concat([resample(df[df[target]== i],\n",
    "                            replace=False,\n",
    "                            n_samples=mi,\n",
    "                            random_state=seed) for i in label_lst if i != name]).append(df[df[target]== name])\n",
    "    print('Resampled Value Counts:','\\n',df2[target].value_counts())\n",
    "    X = df2.loc[:, df.columns != target]\n",
    "    y = df2[target]\n",
    "    viz_cb(y,label_lst)\n",
    "    return df2"
   ]
  },
  {
   "cell_type": "code",
   "execution_count": 11,
   "id": "referenced-spanking",
   "metadata": {},
   "outputs": [],
   "source": [
    "def train_test(X,y):\n",
    "    X_train, X_test, y_train, y_test = tts(X, y, test_size=.2)\n",
    "    print(X_train.shape, y_train.shape)\n",
    "    print(X_test.shape, y_test.shape)"
   ]
  },
  {
   "cell_type": "code",
   "execution_count": 12,
   "id": "challenging-captain",
   "metadata": {},
   "outputs": [],
   "source": [
    "def score_model(X, y, estimator, **kwargs):\n",
    "    \"\"\"\n",
    "    Test various estimators.\n",
    "    \"\"\"\n",
    "    y = LabelEncoder().fit_transform(y)\n",
    "    model = Pipeline([\n",
    "    (\"columns\", ColumnTransformer([\n",
    "        ('onehot', OneHotEncoder(), categorical),\n",
    "        ('scalar', RobustScaler(), numeric),\n",
    "        ('scalar2', RobustScaler(), numeric2),\n",
    "    ], remainder='drop')),\n",
    "        (\"imputer\",SimpleImputer(missing_values=np.nan, strategy='mean')),\n",
    "    ('estimator', estimator)\n",
    "])\n",
    "\n",
    "    # Instantiate the classification model and visualizer\n",
    "    model.fit(X, y, **kwargs)\n",
    "    \n",
    "    expected  = y\n",
    "    predicted = model.predict(X)\n",
    "    \n",
    "    \n",
    "\n",
    "    # Compute and return F1 (harmonic mean of precision and recall)\n",
    "    print(\"F1 SCORE {}: {}\".format(estimator.__class__.__name__, f1_score(expected, predicted,average='micro')))"
   ]
  },
  {
   "cell_type": "code",
   "execution_count": 13,
   "id": "selected-typing",
   "metadata": {},
   "outputs": [],
   "source": [
    "def conf_matrix(X,y,estimator,label_lst, **kwargs):\n",
    "    y = LabelEncoder().fit_transform(y)\n",
    "    model = Pipeline([\n",
    "    (\"columns\", ColumnTransformer([\n",
    "        ('onehot', OneHotEncoder(), categorical),\n",
    "        ('scalar', RobustScaler(), numeric),\n",
    "        ('scalar2', RobustScaler(), numeric2),\n",
    "    ], remainder='drop')),\n",
    "        (\"imputer\",SimpleImputer(missing_values=np.nan, strategy='mean')),\n",
    "    ('estimator', estimator)\n",
    "])\n",
    "\n",
    "\n",
    "    #Create the train and test data\n",
    "    X_train, X_test, y_train, y_test = tts(X, y, test_size=0.2)\n",
    "    #model.fit(X, y)\n",
    "    # Instantiate the visualizer with the classification model\n",
    "    confusion_matrix(\n",
    "        model,\n",
    "        X_train, y_train, X_test, y_test,\n",
    "        classes=label_lst\n",
    "    )\n",
    "    plt.tight_layout()\n",
    "    plt.show()"
   ]
  },
  {
   "cell_type": "code",
   "execution_count": 14,
   "id": "bored-malawi",
   "metadata": {},
   "outputs": [],
   "source": [
    "def roc_auc(X,y,estimator,label_lst, **kwargs):\n",
    "        y = LabelEncoder().fit_transform(y)\n",
    "        model = Pipeline([\n",
    "    (\"columns\", ColumnTransformer([\n",
    "        ('onehot', OneHotEncoder(), categorical),\n",
    "        ('scalar', RobustScaler(), numeric),\n",
    "        ('scalar2', RobustScaler(), numeric2),\n",
    "    ], remainder='drop')),\n",
    "        (\"imputer\",SimpleImputer(missing_values=np.nan, strategy='mean')),\n",
    "    ('estimator', estimator)\n",
    "])\n",
    "        #Create the train and test data\n",
    "        X_train, X_test, y_train, y_test = tts(X, y, test_size=0.2)\n",
    "    # Instantiate the visualizer with the classification model\n",
    "\n",
    "        visualizer = ROCAUC(model, classes=[\"Very High\",\"High\",\"Moderate\",\"Low\",\"Very Low\"\n",
    "])\n",
    "\n",
    "        visualizer.fit(X_train, y_train)        # Fit the training data to the visualizer\n",
    "        visualizer.score(X_test, y_test)        # Evaluate the model on the test data\n",
    "        visualizer.show()                       # Finalize and show the figure"
   ]
  },
  {
   "cell_type": "code",
   "execution_count": 15,
   "id": "cosmetic-official",
   "metadata": {},
   "outputs": [],
   "source": [
    "params = {\n",
    "        # defining parameter range\n",
    "          'C': [0.1, 1, 10, 100, 1000], \n",
    "          'gamma': [1, 0.1, 0.01, 0.001, 0.0001],\n",
    "          'kernel': ['rbf'] \n",
    "  }\n",
    "\n",
    "models = [\n",
    "    GridSearchCV(SVC(),params,\n",
    "                scoring=('accuracy','balanced_accuracy','top_k_accuracy','f1_micro','f1_macro',\n",
    "                          'f1_weighted','precision','recall','roc_auc','average_precision'),\n",
    "                refit='f1_weighted',cv=5,return_train_score=True,n_jobs=6\n",
    "                \n",
    "                \n",
    "                \n",
    "                   \n",
    "\n",
    "                )]"
   ]
  },
  {
   "cell_type": "code",
   "execution_count": null,
   "id": "western-pontiac",
   "metadata": {},
   "outputs": [
    {
     "name": "stdout",
     "output_type": "stream",
     "text": [
      "Raw Value Counts: \n",
      " Very Low     4355\n",
      "Low          4226\n",
      "Moderate     3990\n",
      "High         3328\n",
      "Very High    2309\n",
      "Name: Child Opportunity Levels, overall COI, nationally-normed, dtype: int64\n"
     ]
    },
    {
     "data": {
      "image/png": "[encoded data removed]",
      "text/plain": [
       "<Figure size 648x432 with 1 Axes>"
      ]
     },
     "metadata": {},
     "output_type": "display_data"
    },
    {
     "name": "stdout",
     "output_type": "stream",
     "text": [
      "min value is Very High in values ['Very Low', 'Low', 'Moderate', 'High', 'Very High']\n",
      "Resampled Value Counts: \n",
      " Very High    2309\n",
      "Very Low     2309\n",
      "Low          2309\n",
      "Moderate     2309\n",
      "High         2309\n",
      "Name: Child Opportunity Levels, overall COI, nationally-normed, dtype: int64\n"
     ]
    },
    {
     "data": {
      "image/png": "[encoded data removed]",
      "text/plain": [
       "<Figure size 648x432 with 1 Axes>"
      ]
     },
     "metadata": {},
     "output_type": "display_data"
    },
    {
     "name": "stdout",
     "output_type": "stream",
     "text": [
      "(9236, 57) (9236,)\n",
      "(2309, 57) (2309,)\n",
      "F1 SCORE GridSearchCV: 0.8001732351667389\n"
     ]
    },
    {
     "data": {
      "image/png": "[encoded data removed]",
      "text/plain": [
       "<Figure size 600x360 with 2 Axes>"
      ]
     },
     "metadata": {},
     "output_type": "display_data"
    },
    {
     "data": {
      "image/png": "[encoded data removed]",
      "text/plain": [
       "<Figure size 648x432 with 1 Axes>"
      ]
     },
     "metadata": {},
     "output_type": "display_data"
    },
    {
     "data": {
      "text/plain": [
       "<Figure size 648x432 with 0 Axes>"
      ]
     },
     "metadata": {},
     "output_type": "display_data"
    }
   ],
   "source": [
    "data = class_balance(est_rmv,'Child Opportunity Levels, overall COI, nationally-normed')\n",
    "X = data.loc[:, data.columns != 'Child Opportunity Levels, overall COI, nationally-normed']\n",
    "y = data['Child Opportunity Levels, overall COI, nationally-normed']\n",
    "train_test(X,y)\n",
    "for model in models:\n",
    "    try:\n",
    "        score_model(X, y, model)\n",
    "        visualize_model(X, y, model, cat_labels)\n",
    "        conf_matrix(X, y, model,cat_labels)\n",
    "        roc_auc(X, y, model, cat_labels)\n",
    "    except Exception as exc:\n",
    "        print(model, \n",
    "              traceback.format_exc(), \n",
    "              exc)"
   ]
  },
  {
   "cell_type": "code",
   "execution_count": null,
   "id": "forty-batman",
   "metadata": {},
   "outputs": [],
   "source": []
  }
 ],
 "metadata": {
  "kernelspec": {
   "display_name": "Python 3",
   "language": "python",
   "name": "python3"
  },
  "language_info": {
   "codemirror_mode": {
    "name": "ipython",
    "version": 3
   },
   "file_extension": ".py",
   "mimetype": "text/x-python",
   "name": "python",
   "nbconvert_exporter": "python",
   "pygments_lexer": "ipython3",
   "version": "3.8.5"
  }
 },
 "nbformat": 4,
 "nbformat_minor": 5
}
