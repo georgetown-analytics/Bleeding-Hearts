{
 "cells": [
  {
   "cell_type": "markdown",
   "id": "worth-techno",
   "metadata": {},
   "source": [
    "# Merge COI Index and ACS data"
   ]
  },
  {
   "cell_type": "code",
   "execution_count": 2,
   "id": "orange-senior",
   "metadata": {},
   "outputs": [],
   "source": [
    "import pandas as pd\n",
    "import s3fs"
   ]
  },
  {
   "cell_type": "code",
   "execution_count": 3,
   "id": "fuzzy-surfing",
   "metadata": {},
   "outputs": [],
   "source": [
    "acs = pd.read_csv('s3://bleeding-hearts/workingdata/acs.csv')"
   ]
  },
  {
   "cell_type": "code",
   "execution_count": 4,
   "id": "ecological-stadium",
   "metadata": {},
   "outputs": [],
   "source": [
    "coi_index = pd.read_csv('s3://bleeding-hearts/workingdata/coi_index.csv')"
   ]
  },
  {
   "cell_type": "code",
   "execution_count": 6,
   "id": "known-worker",
   "metadata": {},
   "outputs": [],
   "source": [
    "merge = pd.merge(acs, \n",
    "                  coi_index,\n",
    "                 left_on='metropolitan statistical area/micropolitan statistical area',\n",
    "                  right_on='Metro/Micro Area (2015) FIPS Code')"
   ]
  },
  {
   "cell_type": "code",
   "execution_count": 7,
   "id": "absent-oxygen",
   "metadata": {},
   "outputs": [
    {
     "name": "stdout",
     "output_type": "stream",
     "text": [
      "<class 'pandas.core.frame.DataFrame'>\n",
      "Int64Index: 125899 entries, 0 to 125898\n",
      "Columns: 317 entries, Unnamed: 0_x to Child Opportunity Scores, overall COI, metro-normed\n",
      "dtypes: float64(132), int64(170), object(15)\n",
      "memory usage: 305.4+ MB\n"
     ]
    }
   ],
   "source": [
    "merge.info()"
   ]
  },
  {
   "cell_type": "code",
   "execution_count": null,
   "id": "warming-sender",
   "metadata": {},
   "outputs": [],
   "source": []
  }
 ],
 "metadata": {
  "kernelspec": {
   "display_name": "Python 3",
   "language": "python",
   "name": "python3"
  },
  "language_info": {
   "codemirror_mode": {
    "name": "ipython",
    "version": 3
   },
   "file_extension": ".py",
   "mimetype": "text/x-python",
   "name": "python",
   "nbconvert_exporter": "python",
   "pygments_lexer": "ipython3",
   "version": "3.8.5"
  }
 },
 "nbformat": 4,
 "nbformat_minor": 5
}
